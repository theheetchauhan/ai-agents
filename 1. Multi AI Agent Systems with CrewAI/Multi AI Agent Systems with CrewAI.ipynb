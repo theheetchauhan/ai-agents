{
 "cells": [
  {
   "cell_type": "markdown",
   "metadata": {},
   "source": [
    "# Multi AI Agent Systems with CrewAI - Complete Tutorial\n",
    "\n",
    "A comprehensive guide to building production-ready multi-agent AI systems using CrewAI framework."
   ]
  },
  {
   "cell_type": "markdown",
   "metadata": {},
   "source": [
    "## Installation and Setup\n",
    "\n",
    "Install all required packages for this tutorial:"
   ]
  },
  {
   "cell_type": "code",
   "execution_count": null,
   "metadata": {},
   "outputs": [],
   "source": [
    "# Install required packages\n",
    "%pip install crewai crewai_tools langchain_community setuptools"
   ]
  },
  {
   "cell_type": "code",
   "execution_count": null,
   "metadata": {},
   "outputs": [],
   "source": [
    "# Warning control\n",
    "import warnings\n",
    "warnings.filterwarnings('ignore')"
   ]
  },
  {
   "cell_type": "markdown",
   "metadata": {},
   "source": [
    "## Global Configuration\n",
    "\n",
    "Set up API keys and environment variables used throughout the tutorial:"
   ]
  },
  {
   "cell_type": "code",
   "execution_count": null,
   "metadata": {},
   "outputs": [],
   "source": [
    "import os\n",
    "\n",
    "# Configure OpenAI API - Used for LLM agents throughout the tutorial\n",
    "os.environ['OPENAI_API_KEY'] = '<your-openai-api-key>'\n",
    "os.environ[\"OPENAI_MODEL_NAME\"] = 'gpt-3.5-turbo'\n",
    "\n",
    "# Configure Serper API - Used for web search tools in later modules\n",
    "# Get you key from https://serper.dev/\n",
    "os.environ[\"SERPER_API_KEY\"] = \"<your-serper-api-key>\"\n",
    "\n",
    "# Import core CrewAI components used throughout tutorial\n",
    "from crewai import Agent, Task, Crew"
   ]
  },
  {
   "cell_type": "markdown",
   "metadata": {},
   "source": [
    "---\n",
    "# 1. Course Overview\n",
    "\n",
    "Welcome to this comprehensive course on Multi AI Agent Systems with CrewAI. You'll learn everything about agents, from basics to building complex production-ready systems.\n",
    "\n",
    "## What You'll Learn\n",
    "- **Role playing** and agent focus techniques\n",
    "- **Tools** for agent communication with external world\n",
    "- **Agent cooperation** and collaboration patterns\n",
    "- **Guardrails** to prevent hallucinations and loops\n",
    "- **Memory** systems for enhanced performance\n",
    "- **Sequential, hierarchical, and asynchronous** workflows\n",
    "\n",
    "## What You'll Build\n",
    "1. **Research and Write Crew** - Simple content creation system\n",
    "2. **Customer Support Crew** - Automated support system\n",
    "3. **Customer Outreach Crew** - Sales automation system\n",
    "4. **Event Planning System** - Complex coordination agents\n",
    "5. **Financial Analysis System** - Advanced collaboration patterns\n",
    "6. **Job Application Crew** - Production-ready resume optimization\n",
    "\n",
    "The final project builds a crew that tailors resumes to job postings, increasing interview chances significantly."
   ]
  },
  {
   "cell_type": "markdown",
   "metadata": {},
   "source": [
    "---\n",
    "# 2. Introduction to AI Agents and CrewAI\n",
    "\n",
    "## What are AI Agents?\n",
    "AI agents are LLMs that can talk to themselves with an inner thought process. They receive tasks and use tools to provide complex solutions beyond simple text generation.\n",
    "\n",
    "## Why Multi-Agent Systems?\n",
    "**Specialization**: One agent researches, another writes. Each focuses on their strength.\n",
    "\n",
    "**Different Models**: Run researcher on Llama-3, writer on GPT-4, or use fine-tuned models.\n",
    "\n",
    "**Better Results**: Focused agents outperform generalist agents trying to do everything.\n",
    "\n",
    "## Why CrewAI?\n",
    "CrewAI is an open-source framework designed for production use cases:\n",
    "\n",
    "1. **Simple Structures** - Easy-to-understand concepts\n",
    "2. **Assembly Pattern** - Predefined ways to connect systems\n",
    "3. **Ready Tools** - Pre-built tools and integrations\n",
    "4. **Custom Tools** - Framework for building your own\n",
    "5. **Production Platform** - Deploy agents to production\n",
    "\n",
    "Core building blocks: **Agents**, **Tasks**, and **Crews**."
   ]
  },
  {
   "cell_type": "markdown",
   "metadata": {},
   "source": [
    "---\n",
    "# 3. Create Agents to Research and Write an Article\n",
    "\n",
    "Build your first multi-agent system with three specialized agents working together to create high-quality content.\n",
    "\n",
    "**Key Learning**: Agents perform better when role-playing with clear roles, goals, and backstories."
   ]
  },
  {
   "cell_type": "markdown",
   "metadata": {},
   "source": [
    "## Creating Agents\n",
    "\n",
    "Define agents with `role`, `goal` and `backstory` for better LLM performance."
   ]
  },
  {
   "cell_type": "code",
   "execution_count": null,
   "metadata": {},
   "outputs": [],
   "source": [
    "# AGENT CREATION: Demonstrates the three core elements of effective agents\n",
    "# 1. Role: Specific job function\n",
    "# 2. Goal: Clear objective with placeholder for dynamic input\n",
    "# 3. Backstory: Context that helps LLM understand the agent's perspective\n",
    "planner = Agent(\n",
    "    role=\"Content Planner\",  # Specialized role for content strategy\n",
    "    goal=\"Plan engaging and factually accurate content on {topic}\",  # Dynamic goal using input variables\n",
    "    backstory=\"You're working on planning a blog article \"\n",
    "              \"about the topic: {topic}.\"\n",
    "              \"You collect information that helps the \"\n",
    "              \"audience learn something \"\n",
    "              \"and make informed decisions. \"\n",
    "              \"Your work is the basis for \"\n",
    "              \"the Content Writer to write an article on this topic.\",\n",
    "    allow_delegation=False,  # COOPERATION: Prevents this agent from delegating to others\n",
    "\tverbose=True  # DEBUGGING: Shows agent thinking process\n",
    ")"
   ]
  },
  {
   "cell_type": "code",
   "execution_count": null,
   "metadata": {},
   "outputs": [],
   "source": [
    "# ROLE PLAYING: Writer agent with specific expertise and dependencies\n",
    "writer = Agent(\n",
    "    role=\"Content Writer\",\n",
    "    goal=\"Write insightful and factually accurate \"\n",
    "         \"opinion piece about the topic: {topic}\",\n",
    "    backstory=\"You're working on a writing \"\n",
    "              \"a new opinion piece about the topic: {topic}. \"\n",
    "              \"You base your writing on the work of \"\n",
    "              \"the Content Planner, who provides an outline \"\n",
    "              \"and relevant context about the topic. \"\n",
    "              \"You follow the main objectives and \"\n",
    "              \"direction of the outline, \"\n",
    "              \"as provide by the Content Planner. \"\n",
    "              \"You also provide objective and impartial insights \"\n",
    "              \"and back them up with information \"\n",
    "              \"provide by the Content Planner. \"\n",
    "              \"You acknowledge in your opinion piece \"\n",
    "              \"when your statements are opinions \"\n",
    "              \"as opposed to objective statements.\",\n",
    "    allow_delegation=False,\n",
    "    verbose=True\n",
    ")"
   ]
  },
  {
   "cell_type": "code",
   "execution_count": null,
   "metadata": {},
   "outputs": [],
   "source": [
    "# QUALITY CONTROL: Editor agent for final review and refinement\n",
    "editor = Agent(\n",
    "    role=\"Editor\",\n",
    "    goal=\"Edit a given blog post to align with \"\n",
    "         \"the writing style of the organization. \",\n",
    "    backstory=\"You are an editor who receives a blog post \"\n",
    "              \"from the Content Writer. \"\n",
    "              \"Your goal is to review the blog post \"\n",
    "              \"to ensure that it follows journalistic best practices,\"\n",
    "              \"provides balanced viewpoints \"\n",
    "              \"when providing opinions or assertions, \"\n",
    "              \"and also avoids major controversial topics \"\n",
    "              \"or opinions when possible.\",\n",
    "    allow_delegation=False,\n",
    "    verbose=True\n",
    ")"
   ]
  },
  {
   "cell_type": "markdown",
   "metadata": {},
   "source": [
    "## Creating Tasks\n",
    "\n",
    "Define tasks with `description`, `expected_output` and assigned `agent`."
   ]
  },
  {
   "cell_type": "code",
   "execution_count": null,
   "metadata": {},
   "outputs": [],
   "source": [
    "# TASK DESIGN: Clear description with numbered steps and specific deliverables\n",
    "plan = Task(\n",
    "    description=(\n",
    "        \"1. Prioritize the latest trends, key players, \"\n",
    "            \"and noteworthy news on {topic}.\\n\"  # Step-by-step instructions\n",
    "        \"2. Identify the target audience, considering \"\n",
    "            \"their interests and pain points.\\n\"\n",
    "        \"3. Develop a detailed content outline including \"\n",
    "            \"an introduction, key points, and a call to action.\\n\"\n",
    "        \"4. Include SEO keywords and relevant data or sources.\"\n",
    "    ),\n",
    "    expected_output=\"A comprehensive content plan document \"\n",
    "        \"with an outline, audience analysis, \"\n",
    "        \"SEO keywords, and resources.\",  # CLEAR EXPECTATIONS: Specific deliverable format\n",
    "    agent=planner,  # AGENT ASSIGNMENT: Links task to specific agent\n",
    ")"
   ]
  },
  {
   "cell_type": "code",
   "execution_count": null,
   "metadata": {},
   "outputs": [],
   "source": [
    "# SEQUENTIAL WORKFLOW: This task depends on the planner's output\n",
    "write = Task(\n",
    "    description=(\n",
    "        \"1. Use the content plan to craft a compelling \"\n",
    "            \"blog post on {topic}.\\n\"\n",
    "        \"2. Incorporate SEO keywords naturally.\\n\"\n",
    "\t\t\"3. Sections/Subtitles are properly named \"\n",
    "            \"in an engaging manner.\\n\"\n",
    "        \"4. Ensure the post is structured with an \"\n",
    "            \"engaging introduction, insightful body, \"\n",
    "            \"and a summarizing conclusion.\\n\"\n",
    "        \"5. Proofread for grammatical errors and \"\n",
    "            \"alignment with the brand's voice.\\n\"\n",
    "    ),\n",
    "    expected_output=\"A well-written blog post \"\n",
    "        \"in markdown format, ready for publication, \"\n",
    "        \"each section should have 2 or 3 paragraphs.\",\n",
    "    agent=writer,\n",
    ")"
   ]
  },
  {
   "cell_type": "code",
   "execution_count": null,
   "metadata": {},
   "outputs": [],
   "source": [
    "# FINAL REVIEW: Quality assurance step in the pipeline\n",
    "edit = Task(\n",
    "    description=(\"Proofread the given blog post for \"\n",
    "                 \"grammatical errors and \"\n",
    "                 \"alignment with the brand's voice.\"),\n",
    "    expected_output=\"A well-written blog post in markdown format, \"\n",
    "                    \"ready for publication, \"\n",
    "                    \"each section should have 2 or 3 paragraphs.\",\n",
    "    agent=editor\n",
    ")"
   ]
  },
  {
   "cell_type": "markdown",
   "metadata": {},
   "source": [
    "## Creating the Crew\n",
    "\n",
    "Crews execute tasks sequentially by default. Task order matters since output flows to the next task."
   ]
  },
  {
   "cell_type": "code",
   "execution_count": null,
   "metadata": {},
   "outputs": [],
   "source": [
    "# SEQUENTIAL PROCESS: Default execution pattern where tasks run one after another\n",
    "# Task order is critical - output of each task becomes input for the next\n",
    "crew = Crew(\n",
    "    agents=[planner, writer, editor],  # Agent pool available to execute tasks\n",
    "    tasks=[plan, write, edit],  # Tasks executed in order: plan -> write -> edit\n",
    "    verbose=2  # LOGGING: Level 2 shows detailed execution logs\n",
    ")"
   ]
  },
  {
   "cell_type": "markdown",
   "metadata": {},
   "source": [
    "## Running the Crew"
   ]
  },
  {
   "cell_type": "code",
   "execution_count": null,
   "metadata": {},
   "outputs": [],
   "source": [
    "# EXECUTION: Kick off the crew with input variables\n",
    "# The {topic} placeholder in agent goals and task descriptions gets replaced\n",
    "result = crew.kickoff(inputs={\"topic\": \"AI Agents\"})"
   ]
  },
  {
   "cell_type": "code",
   "execution_count": null,
   "metadata": {},
   "outputs": [],
   "source": [
    "# OUTPUT DISPLAY: Render the final result as formatted markdown\n",
    "from IPython.display import Markdown\n",
    "Markdown(result)"
   ]
  },
  {
   "cell_type": "markdown",
   "metadata": {},
   "source": [
    "---\n",
    "# 4. Key Elements of AI Agents\n",
    "\n",
    "Learn the six key elements that make agents perform better: **Role Playing**, **Focus**, **Tools**, **Cooperation**, **Guardrails**, and **Memory**.\n",
    "\n",
    "Build a customer support automation system demonstrating these principles."
   ]
  },
  {
   "cell_type": "markdown",
   "metadata": {},
   "source": [
    "## Role Playing, Focus and Cooperation"
   ]
  },
  {
   "cell_type": "code",
   "execution_count": null,
   "metadata": {},
   "outputs": [],
   "source": [
    "# ROLE PLAYING: Specific customer support role with detailed context\n",
    "support_agent = Agent(\n",
    "    role=\"Senior Support Representative\",\n",
    "\tgoal=\"Be the most friendly and helpful \"\n",
    "        \"support representative in your team\",\n",
    "\tbackstory=(\n",
    "\t\t\"You work at crewAI (https://crewai.com) and \"\n",
    "        \" are now working on providing \"\n",
    "\t\t\"support to {customer}, a super important customer \"\n",
    "        \" for your company.\"\n",
    "\t\t\"You need to make sure that you provide the best support!\"\n",
    "\t\t\"Make sure to provide full complete answers, \"\n",
    "        \" and make no assumptions.\"\n",
    "\t),\n",
    "\tallow_delegation=False,  # FOCUS: This agent cannot delegate, must handle requests directly\n",
    "\tverbose=True\n",
    ")"
   ]
  },
  {
   "cell_type": "code",
   "execution_count": null,
   "metadata": {},
   "outputs": [],
   "source": [
    "# COOPERATION: Quality assurance agent can work with support agent\n",
    "support_quality_assurance_agent = Agent(\n",
    "\trole=\"Support Quality Assurance Specialist\",\n",
    "\tgoal=\"Get recognition for providing the \"\n",
    "    \"best support quality assurance in your team\",\n",
    "\tbackstory=(\n",
    "\t\t\"You work at crewAI (https://crewai.com) and \"\n",
    "        \"are now working with your team \"\n",
    "\t\t\"on a request from {customer} ensuring that \"\n",
    "        \"the support representative is \"\n",
    "\t\t\"providing the best support possible.\\n\"\n",
    "\t\t\"You need to make sure that the support representative \"\n",
    "        \"is providing full\"\n",
    "\t\t\"complete answers, and make no assumptions.\"\n",
    "\t),\n",
    "\tverbose=True\n",
    "    # allow_delegation=True by default - this agent CAN delegate back to support agent\n",
    ")"
   ]
  },
  {
   "cell_type": "markdown",
   "metadata": {},
   "source": [
    "## Tools, Guardrails and Memory\n",
    "\n",
    "### Tools\n",
    "Tools allow agents to communicate with the external world and perform actions beyond text generation."
   ]
  },
  {
   "cell_type": "code",
   "execution_count": null,
   "metadata": {},
   "outputs": [],
   "source": [
    "# TOOLS: Import CrewAI's pre-built tool collection\n",
    "from crewai_tools import SerperDevTool, ScrapeWebsiteTool, WebsiteSearchTool"
   ]
  },
  {
   "cell_type": "code",
   "execution_count": null,
   "metadata": {},
   "outputs": [],
   "source": [
    "# SPECIALIZED TOOL: Website scraper configured for specific documentation\n",
    "docs_scrape_tool = ScrapeWebsiteTool(\n",
    "    website_url=\"https://docs.crewai.com/how-to/Creating-a-Crew-and-kick-it-off/\"\n",
    ")"
   ]
  },
  {
   "cell_type": "markdown",
   "metadata": {},
   "source": [
    "### Creating Tasks\n",
    "\n",
    "Tools can be assigned at Agent level (all tasks) or Task level (specific task only)."
   ]
  },
  {
   "cell_type": "code",
   "execution_count": null,
   "metadata": {},
   "outputs": [],
   "source": [
    "# TASK-LEVEL TOOLS: Tools assigned to specific task only\n",
    "# This demonstrates tool assignment at task level vs agent level\n",
    "inquiry_resolution = Task(\n",
    "    description=(\n",
    "        \"{customer} just reached out with a super important ask:\\n\"\n",
    "\t    \"{inquiry}\\n\\n\"  # Dynamic input variables for personalization\n",
    "        \"{person} from {customer} is the one that reached out. \"\n",
    "\t\t\"Make sure to use everything you know \"\n",
    "        \"to provide the best support possible.\"\n",
    "\t\t\"You must strive to provide a complete \"\n",
    "        \"and accurate response to the customer's inquiry.\"\n",
    "    ),\n",
    "    expected_output=(\n",
    "\t    \"A detailed, informative response to the \"\n",
    "        \"customer's inquiry that addresses \"\n",
    "        \"all aspects of their question.\\n\"\n",
    "        \"The response should include references \"\n",
    "        \"to everything you used to find the answer, \"\n",
    "        \"including external data or solutions. \"\n",
    "        \"Ensure the answer is complete, \"\n",
    "\t\t\"leaving no questions unanswered, and maintain a helpful and friendly \"\n",
    "\t\t\"tone throughout.\"\n",
    "    ),\n",
    "\ttools=[docs_scrape_tool],  # TOOL ASSIGNMENT: Only this task can use this tool\n",
    "    agent=support_agent,\n",
    ")"
   ]
  },
  {
   "cell_type": "code",
   "execution_count": null,
   "metadata": {},
   "outputs": [],
   "source": [
    "# COOPERATION PATTERN: QA agent reviews work without using tools\n",
    "# This shows agent collaboration where one agent reviews another's work\n",
    "quality_assurance_review = Task(\n",
    "    description=(\n",
    "        \"Review the response drafted by the Senior Support Representative for {customer}'s inquiry.\"\n",
    "        \"Ensure that the answer is comprehensive, accurate, and adheres to the \"\n",
    "\t\t\"high-quality standards expected for customer support.\\n\"\n",
    "        \"Verify that all parts of the customer's inquiry \"\n",
    "        \"have been addressed \"\n",
    "\t\t\"thoroughly, with a helpful and friendly tone.\\n\"\n",
    "        \"Check for references and sources used to \"\n",
    "        \" find the information, \"\n",
    "\t\t\"ensuring the response is well-supported and \"\n",
    "        \"leaves no questions unanswered.\"\n",
    "    ),\n",
    "    expected_output=(\n",
    "        \"A final, detailed, and informative response \"\n",
    "        \"ready to be sent to the customer.\\n\"\n",
    "        \"This response should fully address the \"\n",
    "        \"customer's inquiry, incorporating all \"\n",
    "\t\t\"relevant feedback and improvements.\\n\"\n",
    "\t\t\"Don't be too formal, we are a chill and cool company \"\n",
    "\t    \"but maintain a professional and friendly tone throughout.\"\n",
    "    ),\n",
    "    agent=support_quality_assurance_agent,\n",
    "    # No tools assigned - this agent works with the previous agent's output\n",
    ")"
   ]
  },
  {
   "cell_type": "markdown",
   "metadata": {},
   "source": [
    "### Creating the Crew\n",
    "\n",
    "#### Memory\n",
    "Setting `memory=True` enables the crew to remember and learn from interactions."
   ]
  },
  {
   "cell_type": "code",
   "execution_count": null,
   "metadata": {},
   "outputs": [],
   "source": [
    "# MEMORY: Enables crew to remember and learn from past interactions\n",
    "# This is one of the six key elements that makes agents better\n",
    "crew = Crew(\n",
    "  agents=[support_agent, support_quality_assurance_agent],\n",
    "  tasks=[inquiry_resolution, quality_assurance_review],\n",
    "  verbose=2,\n",
    "  memory=True  # MEMORY SYSTEM: Crew remembers context across executions\n",
    ")"
   ]
  },
  {
   "cell_type": "markdown",
   "metadata": {},
   "source": [
    "### Running the Crew\n",
    "\n",
    "#### Guardrails\n",
    "Agents stay within expected scope and provide reliable responses."
   ]
  },
  {
   "cell_type": "code",
   "execution_count": null,
   "metadata": {},
   "outputs": [],
   "source": [
    "# GUARDRAILS: Input validation and structured execution prevent agent derailment\n",
    "# CrewAI automatically implements guardrails to prevent loops and hallucinations\n",
    "inputs = {\n",
    "    \"customer\": \"DeepLearningAI\",\n",
    "    \"person\": \"Andrew Ng\",\n",
    "    \"inquiry\": \"I need help with setting up a Crew \"\n",
    "               \"and kicking it off, specifically \"\n",
    "               \"how can I add memory to my crew? \"\n",
    "               \"Can you provide guidance?\"\n",
    "}\n",
    "result = crew.kickoff(inputs=inputs)"
   ]
  },
  {
   "cell_type": "code",
   "execution_count": null,
   "metadata": {},
   "outputs": [],
   "source": [
    "from IPython.display import Markdown\n",
    "Markdown(result)"
   ]
  },
  {
   "cell_type": "markdown",
   "metadata": {},
   "source": [
    "---\n",
    "# 5. Mental Framework for Agent Creation\n",
    "\n",
    "## Think Like a Manager\n",
    "The key to creating great multi-agent systems is thinking like a manager. There's a high correlation between good management skills and effective agent design.\n",
    "\n",
    "## Framework Steps\n",
    "\n",
    "1. **Define the Goal**: What exactly are you trying to accomplish?\n",
    "2. **Map the Process**: What process should agents follow?\n",
    "3. **Identify People**: What people would you hire to get this job done?\n",
    "4. **Define Roles**: What should be their roles, goals, and backstories?\n",
    "\n",
    "## Better Examples\n",
    "Instead of generic roles, use specific expertise:\n",
    "\n",
    "- **Bad**: \"Researcher\" → **Good**: \"HR Research Specialist\"\n",
    "- **Bad**: \"Writer\" → **Good**: \"Senior Copywriter\"\n",
    "- **Bad**: \"Financial Analyst\" → **Good**: \"FINRA Approved Analyst\"\n",
    "\n",
    "## Key Takeaways\n",
    "- Agents perform better with **role-playing**\n",
    "- **Focus** beats generalization\n",
    "- **Cooperation** enables complex workflows\n",
    "- **Guardrails** prevent derailment\n",
    "- **Memory** enables self-improvement\n",
    "- **Smaller, focused tasks** outperform large, complex ones"
   ]
  },
  {
   "cell_type": "markdown",
   "metadata": {},
   "source": [
    "---\n",
    "# 6. Key Elements of Agent Tools\n",
    "\n",
    "Tools are crucial for agents to communicate with the external world and have real impact. Great tools have three key characteristics:\n",
    "\n",
    "## 1. Versatility\n",
    "Tools must handle different types of requests from LLMs. They bridge fuzzy AI inputs with strong-typed external systems. CrewAI automatically converts arguments to correct types.\n",
    "\n",
    "## 2. Fault Tolerance\n",
    "Tools should fail gracefully without stopping execution. When exceptions occur, CrewAI sends error messages back to agents so they can adjust and retry rather than crashing.\n",
    "\n",
    "This is crucial when deploying at scale - agents deal with various documents and data sources, and tools must handle unexpected inputs.\n",
    "\n",
    "## 3. Caching\n",
    "Smart caching prevents unnecessary API calls and improves performance. CrewAI offers cross-agent caching where multiple agents can benefit from cached results.\n",
    "\n",
    "Caching is key for real-world usability when tools frequently call external APIs and services."
   ]
  },
  {
   "cell_type": "markdown",
   "metadata": {},
   "source": [
    "---\n",
    "# 7. Tools for Customer Outreach Campaign\n",
    "\n",
    "Build a sales automation system using CrewAI tools and custom tools for customer outreach.\n",
    "\n",
    "**Key Learning**: Tools enable agents to take actions beyond text generation."
   ]
  },
  {
   "cell_type": "markdown",
   "metadata": {},
   "source": [
    "## Creating Agents"
   ]
  },
  {
   "cell_type": "code",
   "execution_count": null,
   "metadata": {},
   "outputs": [],
   "source": [
    "# SPECIALIZED SALES AGENT: Demonstrates focused agent design for lead generation\n",
    "sales_rep_agent = Agent(\n",
    "    role=\"Sales Representative\",\n",
    "    goal=\"Identify high-value leads that match \"\n",
    "         \"our ideal customer profile\",\n",
    "    backstory=(\n",
    "        \"As a part of the dynamic sales team at CrewAI, \"\n",
    "        \"your mission is to scour \"\n",
    "        \"the digital landscape for potential leads. \"\n",
    "        \"Armed with cutting-edge tools \"\n",
    "        \"and a strategic mindset, you analyze data, \"\n",
    "        \"trends, and interactions to \"\n",
    "        \"unearth opportunities that others might overlook. \"\n",
    "        \"Your work is foundational to the \"\n",
    "        \"sales process, setting the stage for meaningful \"\n",
    "        \"engagements and successful conversions.\"\n",
    "    ),\n",
    "    allow_delegation=False,\n",
    "\tverbose=True\n",
    ")"
   ]
  },
  {
   "cell_type": "code",
   "execution_count": null,
   "metadata": {},
   "outputs": [],
   "source": [
    "# COMMUNICATION SPECIALIST: Focused on personalized outreach and messaging\n",
    "lead_sales_rep_agent = Agent(\n",
    "    role=\"Lead Sales Representative\",\n",
    "    goal=\"Nurture leads with personalized, compelling outreach\",\n",
    "    backstory=(\n",
    "        \"Within the vibrant ecosystem of CrewAI's sales department, \"\n",
    "        \"you stand out as the bridge between potential clients \"\n",
    "        \"and the solutions they need.\"\n",
    "        \"By creating personalized outreach messages, \"\n",
    "        \"you not only inform leads about our offerings \"\n",
    "        \"but also make them feel seen and heard.\"\n",
    "        \"Your role is pivotal in converting interest \"\n",
    "        \"into action, guiding leads through the journey \"\n",
    "        \"from curiosity to commitment.\"\n",
    "    ),\n",
    "    allow_delegation=False,\n",
    "\tverbose=True\n",
    ")"
   ]
  },
  {
   "cell_type": "markdown",
   "metadata": {},
   "source": [
    "## crewAI Tools"
   ]
  },
  {
   "cell_type": "code",
   "execution_count": null,
   "metadata": {},
   "outputs": [],
   "source": [
    "# TOOL VARIETY: Different types of tools for different agent needs\n",
    "from crewai_tools import DirectoryReadTool, \\\n",
    "                         FileReadTool, \\\n",
    "                         SerperDevTool\n",
    "\n",
    "# DIRECTORY TOOL: Allows agents to read instruction files for different customer types\n",
    "directory_read_tool = DirectoryReadTool(directory='./instructions')\n",
    "file_read_tool = FileReadTool()  # VERSATILITY: Can read any file dynamically\n",
    "search_tool = SerperDevTool()    # WEB SEARCH: Enables internet research capabilities"
   ]
  },
  {
   "cell_type": "markdown",
   "metadata": {},
   "source": [
    "## Creating a Custom Tool"
   ]
  },
  {
   "cell_type": "code",
   "execution_count": null,
   "metadata": {},
   "outputs": [],
   "source": [
    "# CUSTOM TOOL FRAMEWORK: How to build tools that extend agent capabilities\n",
    "from crewai_tools import BaseTool"
   ]
  },
  {
   "cell_type": "code",
   "execution_count": null,
   "metadata": {},
   "outputs": [],
   "source": [
    "# CUSTOM TOOL IMPLEMENTATION: Demonstrates tool creation pattern\n",
    "class SentimentAnalysisTool(BaseTool):\n",
    "    name: str =\"Sentiment Analysis Tool\"  # TOOL IDENTIFICATION: Clear name for agent selection\n",
    "    description: str = (\"Analyzes the sentiment of text \"\n",
    "         \"to ensure positive and engaging communication.\")  # TOOL PURPOSE: When agents should use this\n",
    "    \n",
    "    def _run(self, text: str) -> str:\n",
    "        # FAULT TOLERANCE: In production, this would handle various text inputs\n",
    "        # and gracefully handle errors instead of crashing\n",
    "        return \"positive\"  # Simplified implementation for demonstration"
   ]
  },
  {
   "cell_type": "code",
   "execution_count": null,
   "metadata": {},
   "outputs": [],
   "source": [
    "# TOOL INSTANTIATION: Create instance for use by agents\n",
    "sentiment_analysis_tool = SentimentAnalysisTool()"
   ]
  },
  {
   "cell_type": "markdown",
   "metadata": {},
   "source": [
    "## Creating Tasks"
   ]
  },
  {
   "cell_type": "code",
   "execution_count": null,
   "metadata": {},
   "outputs": [],
   "source": [
    "# RESEARCH TASK: Demonstrates multiple tool usage for comprehensive analysis\n",
    "lead_profiling_task = Task(\n",
    "    description=(\n",
    "        \"Conduct an in-depth analysis of {lead_name}, \"\n",
    "        \"a company in the {industry} sector \"\n",
    "        \"that recently showed interest in our solutions. \"\n",
    "        \"Utilize all available data sources \"\n",
    "        \"to compile a detailed profile, \"\n",
    "        \"focusing on key decision-makers, recent business \"\n",
    "        \"developments, and potential needs \"\n",
    "        \"that align with our offerings. \"\n",
    "        \"This task is crucial for tailoring \"\n",
    "        \"our engagement strategy effectively.\\n\"\n",
    "        \"Don't make assumptions and \"\n",
    "        \"only use information you absolutely sure about.\"\n",
    "    ),\n",
    "    expected_output=(\n",
    "        \"A comprehensive report on {lead_name}, \"\n",
    "        \"including company background, \"\n",
    "        \"key personnel, recent milestones, and identified needs. \"\n",
    "        \"Highlight potential areas where \"\n",
    "        \"our solutions can provide value, \"\n",
    "        \"and suggest personalized engagement strategies.\"\n",
    "    ),\n",
    "    tools=[directory_read_tool, file_read_tool, search_tool],  # MULTIPLE TOOLS: Agent can choose best tool for each subtask\n",
    "    agent=sales_rep_agent,\n",
    ")"
   ]
  },
  {
   "cell_type": "code",
   "execution_count": null,
   "metadata": {},
   "outputs": [],
   "source": [
    "# PERSONALIZATION TASK: Uses custom tool for sentiment analysis\n",
    "personalized_outreach_task = Task(\n",
    "    description=(\n",
    "        \"Using the insights gathered from \"\n",
    "        \"the lead profiling report on {lead_name}, \"\n",
    "        \"craft a personalized outreach campaign \"\n",
    "        \"aimed at {key_decision_maker}, \"\n",
    "        \"the {key_decision_maker_position} of {lead_name}. \"\n",
    "        \"The campaign should address their recent {milestone} \"\n",
    "        \"and how our solutions can support their goals. \"\n",
    "        \"Your communication must resonate \"\n",
    "        \"with {lead_name}'s company culture and values, \"\n",
    "        \"demonstrating a deep understanding of \"\n",
    "        \"their business and needs.\\n\"\n",
    "        \"Don't make assumptions and only \"\n",
    "        \"use information you absolutely sure about.\"\n",
    "    ),\n",
    "    expected_output=(\n",
    "        \"A series of personalized email drafts \"\n",
    "        \"tailored to {lead_name}, \"\n",
    "        \"specifically targeting {key_decision_maker}.\"\n",
    "        \"Each draft should include \"\n",
    "        \"a compelling subject line, personalized greeting, \"\n",
    "        \"a body that addresses their recent milestone {milestone}, \"\n",
    "        \"explains how our solutions align with their goals, \"\n",
    "        \"and a clear call-to-action. \"\n",
    "        \"Ensure the tone is engaging, professional, \"\n",
    "        \"and aligned with {lead_name}'s corporate culture.\"\n",
    "    ),\n",
    "    tools=[sentiment_analysis_tool, search_tool],  # CUSTOM + STANDARD TOOLS: Mix of custom and pre-built tools\n",
    "    agent=lead_sales_rep_agent,\n",
    ")"
   ]
  },
  {
   "cell_type": "markdown",
   "metadata": {},
   "source": [
    "## Creating the Crew"
   ]
  },
  {
   "cell_type": "code",
   "execution_count": null,
   "metadata": {},
   "outputs": [],
   "source": [
    "# SALES WORKFLOW: Sequential process where research informs outreach\n",
    "crew = Crew(\n",
    "    agents=[sales_rep_agent, \n",
    "            lead_sales_rep_agent],\n",
    "    \n",
    "    tasks=[lead_profiling_task, \n",
    "           personalized_outreach_task],  # TASK DEPENDENCY: Second task uses first task's output\n",
    "\t\n",
    "    verbose=2,\n",
    "\tmemory=True  # LEARNING: Crew remembers successful outreach patterns\n",
    ")"
   ]
  },
  {
   "cell_type": "markdown",
   "metadata": {},
   "source": [
    "## Running the Crew"
   ]
  },
  {
   "cell_type": "code",
   "execution_count": null,
   "metadata": {},
   "outputs": [],
   "source": [
    "# DYNAMIC INPUT: Variables allow reusing the crew for different leads\n",
    "# Note: If you see an error like \"Action Input: {\"file_path\": \"DeepLearningAI_company_profile.txt\"}\", \n",
    "# it's just the agent attempting to use the file reader tool for a file that may not exist. \n",
    "# This is expected behavior and not a problem.\n",
    "inputs = {\n",
    "    \"lead_name\": \"DeepLearningAI\",\n",
    "    \"industry\": \"Online Learning Platform\",\n",
    "    \"key_decision_maker\": \"Andrew Ng\",\n",
    "    \"key_decision_maker_position\": \"CEO\",\n",
    "    \"milestone\": \"product launch\"\n",
    "}\n",
    "\n",
    "result = crew.kickoff(inputs=inputs)"
   ]
  },
  {
   "cell_type": "code",
   "execution_count": null,
   "metadata": {},
   "outputs": [],
   "source": [
    "from IPython.display import Markdown\n",
    "Markdown(result)"
   ]
  },
  {
   "cell_type": "markdown",
   "metadata": {},
   "source": [
    "---\n",
    "# 8. Key Elements of Well-Defined Tasks\n",
    "\n",
    "Tasks are the cornerstone of multi-agent systems. Just like managing people, you need to clearly delegate work with explicit expectations.\n",
    "\n",
    "## Manager Analogy Extended\n",
    "When hiring someone, especially junior people, you must be explicit about:\n",
    "- **What you expect them to do**\n",
    "- **What the expected result looks like**\n",
    "\n",
    "## Task Design Principles\n",
    "\n",
    "### Two Essential Elements\n",
    "1. **Clear Description** - What is the task exactly?\n",
    "2. **Expected Output** - What should the result look like?\n",
    "\n",
    "### Best Practices\n",
    "- Break complex work into **smaller, focused tasks**\n",
    "- Each task should have a **single clear objective**\n",
    "- Define **specific deliverables** and formats\n",
    "- Consider **task dependencies** and order\n",
    "- Assign tasks to **appropriate specialist agents**\n",
    "\n",
    "## Why This Matters\n",
    "- **Smaller tasks** with **focused agents** perform better than large, complex tasks\n",
    "- Clear expectations reduce ambiguity and improve results\n",
    "- Well-defined outputs enable smooth handoffs between agents\n",
    "- Focused tasks allow agents to specialize and excel"
   ]
  },
  {
   "cell_type": "markdown",
   "metadata": {},
   "source": [
    "---\n",
    "# 9. Automate Event Planning\n",
    "\n",
    "Build a multi-agent system for comprehensive event planning, demonstrating advanced task coordination.\n",
    "\n",
    "**Key Learning**: Complex coordination through specialized agents and well-defined task flows."
   ]
  },
  {
   "cell_type": "markdown",
   "metadata": {},
   "source": [
    "## crewAI Tools"
   ]
  },
  {
   "cell_type": "code",
   "execution_count": null,
   "metadata": {},
   "outputs": [],
   "source": [
    "# RESEARCH TOOLS: Web-based tools for event planning research\n",
    "from crewai_tools import ScrapeWebsiteTool, SerperDevTool\n",
    "\n",
    "# Initialize the tools for market research and venue investigation\n",
    "search_tool = SerperDevTool()    # Web search for venue and vendor discovery\n",
    "scrape_tool = ScrapeWebsiteTool()  # Deep dive into specific venue websites"
   ]
  },
  {
   "cell_type": "markdown",
   "metadata": {},
   "source": [
    "## Creating Agents"
   ]
  },
  {
   "cell_type": "code",
   "execution_count": null,
   "metadata": {},
   "outputs": [],
   "source": [
    "# SPECIALIZED COORDINATOR: Domain-specific agent for venue management\n",
    "# Demonstrates how to create focused agents for complex multi-step processes\n",
    "venue_coordinator = Agent(\n",
    "    role=\"Venue Coordinator\",\n",
    "    goal=\"Identify and book an appropriate venue \"\n",
    "    \"based on event requirements\",\n",
    "    tools=[search_tool, scrape_tool],  # AGENT-LEVEL TOOLS: Available for all tasks this agent performs\n",
    "    verbose=True,\n",
    "    backstory=(\n",
    "        \"With a keen sense of space and \"\n",
    "        \"understanding of event logistics, \"\n",
    "        \"you excel at finding and securing \"\n",
    "        \"the perfect venue that fits the event's theme, \"\n",
    "        \"size, and budget constraints.\"\n",
    "    )\n",
    ")"
   ]
  },
  {
   "cell_type": "code",
   "execution_count": null,
   "metadata": {},
   "outputs": [],
   "source": [
    "# OPERATIONS SPECIALIST: Handles complex logistical coordination\n",
    "logistics_coordinator = Agent(\n",
    "    role=\"Logistics Coordinator\",\n",
    "    goal=\"Manage all logistics for the event \"\n",
    "    \"including catering, equipment, and transportation\",\n",
    "    tools=[search_tool, scrape_tool],\n",
    "    verbose=True,\n",
    "    backstory=(\n",
    "        \"Organized and detail-oriented, \"\n",
    "        \"you ensure that every logistical aspect \"\n",
    "        \"of the event is planned and executed flawlessly. \"\n",
    "        \"From catering to equipment setup, \"\n",
    "        \"you handle it all with precision.\"\n",
    "    )\n",
    ")"
   ]
  },
  {
   "cell_type": "code",
   "execution_count": null,
   "metadata": {},
   "outputs": [],
   "source": [
    "# COMMUNICATIONS EXPERT: Manages audience engagement and promotion\n",
    "marketing_communications_coordinator = Agent(\n",
    "    role=\"Marketing and Communications Coordinator\",\n",
    "    goal=\"Promote the event and communicate \"\n",
    "    \"with participants\",\n",
    "    tools=[search_tool, scrape_tool],\n",
    "    verbose=True,\n",
    "    backstory=(\n",
    "        \"Creative and communicative, \"\n",
    "        \"you craft compelling messages and \"\n",
    "        \"develop marketing strategies that \"\n",
    "        \"resonate with the target audience. \"\n",
    "        \"Your goal is to maximize event attendance \"\n",
    "        \"and engagement through effective communication.\"\n",
    "    )\n",
    ")"
   ]
  },
  {
   "cell_type": "markdown",
   "metadata": {},
   "source": [
    "## Creating Tasks"
   ]
  },
  {
   "cell_type": "code",
   "execution_count": null,
   "metadata": {},
   "outputs": [],
   "source": [
    "# TASK COORDINATION: Each task builds foundation for subsequent tasks\n",
    "# Venue selection affects logistics and marketing strategies\n",
    "venue_task = Task(\n",
    "    description=(\n",
    "        \"Find a venue in {event_city} \"\n",
    "        \"that meets criteria for {event_topic}.\"\n",
    "    ),\n",
    "    expected_output=(\n",
    "        \"A detailed venue report including name, location, \"\n",
    "        \"capacity, cost, amenities, and \"\n",
    "        \"contact information of the venue.\"\n",
    "    ),\n",
    "    agent=venue_coordinator  # AGENT SPECIALIZATION: Right agent for the right task\n",
    ")"
   ]
  },
  {
   "cell_type": "code",
   "execution_count": null,
   "metadata": {},
   "outputs": [],
   "source": [
    "# DEPENDENCY TASK: Uses venue information to plan logistics\n",
    "# Shows how task outputs flow to inform subsequent decisions\n",
    "logistics_task = Task(\n",
    "    description=(\n",
    "        \"Coordinate catering and \"\n",
    "        \"equipment for an event \"\n",
    "        \"with the following details:\\n\"\n",
    "        \"- Event topic: {event_topic}\\n\"\n",
    "        \"- Number of participants: {expected_participants}\\n\"\n",
    "        \"- Venue: {venue}\\n\"  # This will be filled by venue_task output\n",
    "        \"- Location: {event_city}\\n\"\n",
    "    ),\n",
    "    expected_output=(\n",
    "        \"A comprehensive logistics report including \"\n",
    "        \"catering options, equipment needs, \"\n",
    "        \"setup requirements, and contact information \"\n",
    "        \"for all vendors and service providers.\"\n",
    "    ),\n",
    "    agent=logistics_coordinator\n",
    ")"
   ]
  },
  {
   "cell_type": "code",
   "execution_count": null,
   "metadata": {},
   "outputs": [],
   "source": [
    "# PARALLEL EXECUTION: Marketing can run alongside logistics planning\n",
    "# Demonstrates how some tasks can be independent\n",
    "marketing_task = Task(\n",
    "    description=(\n",
    "        \"Promote the {event_topic} event \"\n",
    "        \"aiming to engage at least \"\n",
    "        \"{expected_participants} potential participants.\\n\"\n",
    "        \"Use social media, email campaigns, \"\n",
    "        \"and other communication channels.\"\n",
    "    ),\n",
    "    expected_output=(\n",
    "        \"A marketing plan including key messages, \"\n",
    "        \"promotional materials, communication channels, \"\n",
    "        \"timeline, and expected reach and engagement metrics.\"\n",
    "    ),\n",
    "    agent=marketing_communications_coordinator\n",
    ")"
   ]
  },
  {
   "cell_type": "markdown",
   "metadata": {},
   "source": [
    "## Creating the Crew"
   ]
  },
  {
   "cell_type": "code",
   "execution_count": null,
   "metadata": {},
   "outputs": [],
   "source": [
    "# COMPLEX COORDINATION: Multiple specialists working in sequence\n",
    "# Task order ensures dependencies are resolved before dependent tasks execute\n",
    "event_management_crew = Crew(\n",
    "    agents=[venue_coordinator, \n",
    "            logistics_coordinator, \n",
    "            marketing_communications_coordinator],\n",
    "    \n",
    "    tasks=[venue_task, \n",
    "           logistics_task, \n",
    "           marketing_task],  # SEQUENTIAL EXECUTION: Venue -> Logistics -> Marketing\n",
    "    \n",
    "    verbose=2  # MONITORING: Track complex multi-agent coordination\n",
    ")"
   ]
  },
  {
   "cell_type": "markdown",
   "metadata": {},
   "source": [
    "## Running the Crew"
   ]
  },
  {
   "cell_type": "code",
   "execution_count": null,
   "metadata": {},
   "outputs": [],
   "source": [
    "# COMPREHENSIVE INPUT: All parameters needed for complete event planning\n",
    "event_details = {\n",
    "    'event_topic': \"Tech Innovation Conference\",\n",
    "    'event_city': \"San Francisco\", \n",
    "    'expected_participants': 500,\n",
    "    'venue': \"Golden Gate Park\"  # This may be updated by venue_coordinator\n",
    "}\n",
    "\n",
    "# COMPLEX WORKFLOW EXECUTION: Multiple agents coordinating specialized tasks\n",
    "result = event_management_crew.kickoff(inputs=event_details)"
   ]
  },
  {
   "cell_type": "code",
   "execution_count": null,
   "metadata": {},
   "outputs": [],
   "source": [
    "from IPython.display import Markdown\n",
    "Markdown(result)"
   ]
  },
  {
   "cell_type": "markdown",
   "metadata": {},
   "source": [
    "---\n",
    "# 10. Multi-Agent Collaboration Patterns\n",
    "\n",
    "Learn different ways agents can collaborate beyond simple sequential execution.\n",
    "\n",
    "## Collaboration Patterns\n",
    "\n",
    "### Sequential Process (Default)\n",
    "One agent finishes a task, passes output to the next. Simple but context can fade over long chains.\n",
    "\n",
    "### Parallel Process\n",
    "Multiple agents work simultaneously on different tasks. Efficient for independent workstreams.\n",
    "\n",
    "### Hierarchical Process\n",
    "A manager agent coordinates and delegates work to specialist agents. Powerful for complex scenarios requiring oversight.\n",
    "\n",
    "## When to Use Each Pattern\n",
    "\n",
    "- **Sequential**: Linear workflows, content creation pipelines\n",
    "- **Parallel**: Independent research streams, multi-channel analysis\n",
    "- **Hierarchical**: Complex decision-making, dynamic task allocation\n",
    "\n",
    "## Real-World Applications\n",
    "Fortune 500 companies use CrewAI for financial analysis, combining multiple collaboration patterns to:\n",
    "- Research market trends\n",
    "- Analyze company fundamentals  \n",
    "- Generate trading recommendations\n",
    "- Perform risk assessments\n",
    "\n",
    "The key is choosing the right collaboration pattern for your specific use case."
   ]
  },
  {
   "cell_type": "markdown",
   "metadata": {},
   "source": [
    "---\n",
    "# 11. Multi-Agent Collaboration for Financial Analysis\n",
    "\n",
    "Build an advanced financial analysis system demonstrating hierarchical collaboration with a manager agent.\n",
    "\n",
    "**Key Learning**: Hierarchical processes with autonomous delegation and complex workflows."
   ]
  },
  {
   "cell_type": "markdown",
   "metadata": {},
   "source": [
    "## crewAI Tools"
   ]
  },
  {
   "cell_type": "code",
   "execution_count": null,
   "metadata": {},
   "outputs": [],
   "source": [
    "# FINANCIAL RESEARCH TOOLS: Specialized tools for market analysis\n",
    "from crewai_tools import ScrapeWebsiteTool, SerperDevTool\n",
    "\n",
    "search_tool = SerperDevTool()     # Market data and news search\n",
    "scrape_tool = ScrapeWebsiteTool() # Deep analysis of financial websites"
   ]
  },
  {
   "cell_type": "markdown",
   "metadata": {},
   "source": [
    "## Creating Agents"
   ]
  },
  {
   "cell_type": "code",
   "execution_count": null,
   "metadata": {},
   "outputs": [],
   "source": [
    "# QUANTITATIVE SPECIALIST: Data-focused agent for market analysis\n",
    "data_analyst_agent = Agent(\n",
    "    role=\"Data Analyst\",\n",
    "    goal=\"Monitor and analyze market data in real-time \"\n",
    "         \"to identify trends and predict market movements.\",\n",
    "    backstory=\"Specializing in financial markets, this agent \"\n",
    "              \"uses statistical modeling and machine learning \"\n",
    "              \"to provide crucial insights. With a knack for data, \"\n",
    "              \"the Data Analyst Agent is the cornerstone for \"\n",
    "              \"informing trading decisions.\",\n",
    "    verbose=True,\n",
    "    tools=[search_tool, scrape_tool]  # RESEARCH CAPABILITIES: Access to market data sources\n",
    ")"
   ]
  },
  {
   "cell_type": "code",
   "execution_count": null,
   "metadata": {},
   "outputs": [],
   "source": [
    "# STRATEGY SPECIALIST: Translates analysis into actionable strategies\n",
    "trading_strategy_agent = Agent(\n",
    "    role=\"Trading Strategy Developer\",\n",
    "    goal=\"Develop and test various trading strategies based \"\n",
    "         \"on insights from the Data Analyst Agent.\",\n",
    "    backstory=\"Equipped with a deep understanding of financial \"\n",
    "              \"markets and quantitative analysis, this agent \"\n",
    "              \"devises and refines trading strategies. It evaluates \"\n",
    "              \"the performance of different approaches to determine \"\n",
    "              \"the most profitable and risk-averse options.\",\n",
    "    verbose=True,\n",
    "    tools=[search_tool, scrape_tool]\n",
    ")"
   ]
  },
  {
   "cell_type": "code",
   "execution_count": null,
   "metadata": {},
   "outputs": [],
   "source": [
    "# EXECUTION SPECIALIST: Focuses on implementation details\n",
    "execution_agent = Agent(\n",
    "    role=\"Trade Advisor\",\n",
    "    goal=\"Suggest optimal trade execution strategies \"\n",
    "         \"based on approved trading strategies.\",\n",
    "    backstory=\"This agent specializes in analyzing the timing, price, \"\n",
    "              \"and logistical details of potential trades. By evaluating \"\n",
    "              \"these factors, it provides well-founded suggestions for \"\n",
    "              \"when and how trades should be executed to maximize \"\n",
    "              \"efficiency and adherence to strategy.\",\n",
    "    verbose=True,\n",
    "    tools=[search_tool, scrape_tool]\n",
    ")"
   ]
  },
  {
   "cell_type": "code",
   "execution_count": null,
   "metadata": {},
   "outputs": [],
   "source": [
    "# RISK SPECIALIST: Critical oversight for financial safety\n",
    "risk_management_agent = Agent(\n",
    "    role=\"Risk Advisor\",\n",
    "    goal=\"Evaluate and provide insights on the risks \"\n",
    "         \"associated with potential trading decisions.\",\n",
    "    backstory=\"Armed with a deep understanding of risk assessment models \"\n",
    "              \"and market dynamics, this agent scrutinizes the potential \"\n",
    "              \"risks of proposed trades. It provides a detailed analysis of \"\n",
    "              \"risk exposure and suggests safeguards to ensure that \"\n",
    "              \"trading activities align with the firm's risk tolerance.\",\n",
    "    verbose=True,\n",
    "    tools=[search_tool, scrape_tool]\n",
    ")"
   ]
  },
  {
   "cell_type": "markdown",
   "metadata": {},
   "source": [
    "## Creating Tasks"
   ]
  },
  {
   "cell_type": "code",
   "execution_count": null,
   "metadata": {},
   "outputs": [],
   "source": [
    "# FOUNDATIONAL ANALYSIS: Data gathering and trend identification\n",
    "# This task feeds into all other financial analysis tasks\n",
    "data_analysis_task = Task(\n",
    "    description=(\n",
    "        \"Continuously monitor and analyze market data for \"\n",
    "        \"the selected stock ({stock_selection}). \"\n",
    "        \"Use statistical modeling and machine learning to \"\n",
    "        \"identify trends and predict market movements.\"\n",
    "    ),\n",
    "    expected_output=(\n",
    "        \"Insights and alerts about significant market \"\n",
    "        \"opportunities or threats for {stock_selection}.\"\n",
    "    ),\n",
    "    agent=data_analyst_agent,\n",
    "    # This task can run independently and inform others\n",
    ")"
   ]
  },
  {
   "cell_type": "code",
   "execution_count": null,
   "metadata": {},
   "outputs": [],
   "source": [
    "# STRATEGY DEVELOPMENT: Builds on data analysis to create actionable plans\n",
    "strategy_development_task = Task(\n",
    "    description=(\n",
    "        \"Develop and refine trading strategies based on \"\n",
    "        \"the insights from the Data Analyst and \"\n",
    "        \"user-defined risk tolerance ({risk_tolerance}). \"\n",
    "        \"Consider trading preferences ({trading_strategy_preference}).\"\n",
    "    ),\n",
    "    expected_output=(\n",
    "        \"A set of potential trading strategies for {stock_selection} \"\n",
    "        \"that align with the user's risk tolerance.\"\n",
    "    ),\n",
    "    agent=trading_strategy_agent,\n",
    "    # Depends on data_analysis_task output\n",
    ")"
   ]
  },
  {
   "cell_type": "code",
   "execution_count": null,
   "metadata": {},
   "outputs": [],
   "source": [
    "# IMPLEMENTATION PLANNING: Tactical execution of strategies\n",
    "execution_planning_task = Task(\n",
    "    description=(\n",
    "        \"Analyze approved trading strategies to determine optimal \"\n",
    "        \"execution methods. Provide detailed execution plans \"\n",
    "        \"considering current market conditions and optimal pricing.\"\n",
    "    ),\n",
    "    expected_output=(\n",
    "        \"Detailed execution plans suggesting how and when to \"\n",
    "        \"execute the proposed trading strategies.\"\n",
    "    ),\n",
    "    agent=execution_agent,\n",
    "    # Depends on strategy_development_task\n",
    ")"
   ]
  },
  {
   "cell_type": "code",
   "execution_count": null,
   "metadata": {},
   "outputs": [],
   "source": [
    "# RISK OVERSIGHT: Critical review of all proposed actions\n",
    "risk_assessment_task = Task(\n",
    "    description=(\n",
    "        \"Evaluate the risks associated with the proposed trading \"\n",
    "        \"strategies and execution plans. Provide a comprehensive \"\n",
    "        \"risk analysis and suggest mitigation strategies.\"\n",
    "    ),\n",
    "    expected_output=(\n",
    "        \"A comprehensive risk analysis report detailing potential \"\n",
    "        \"risks and mitigation recommendations for the proposed \"\n",
    "        \"trading strategies.\"\n",
    "    ),\n",
    "    agent=risk_management_agent,\n",
    "    # Reviews output from all other tasks\n",
    ")"
   ]
  },
  {
   "cell_type": "markdown",
   "metadata": {},
   "source": [
    "## Creating the Crew\n",
    "\n",
    "Using hierarchical process with manager delegation."
   ]
  },
  {
   "cell_type": "code",
   "execution_count": null,
   "metadata": {},
   "outputs": [],
   "source": [
    "# HIERARCHICAL PROCESS: Manager agent coordinates specialist agents\n",
    "# This demonstrates advanced collaboration pattern for complex workflows\n",
    "from crewai import Process\n",
    "from langchain_openai import ChatOpenAI\n",
    "\n",
    "financial_trading_crew = Crew(\n",
    "    agents=[data_analyst_agent, \n",
    "            trading_strategy_agent, \n",
    "            execution_agent, \n",
    "            risk_management_agent],\n",
    "    \n",
    "    tasks=[data_analysis_task, \n",
    "           strategy_development_task, \n",
    "           execution_planning_task, \n",
    "           risk_assessment_task],\n",
    "    \n",
    "    # HIERARCHICAL CONFIGURATION: Manager LLM oversees and delegates\n",
    "    manager_llm=ChatOpenAI(model=\"gpt-3.5-turbo\", \n",
    "                           temperature=0.7),  # Manager decision-making model\n",
    "    process=Process.hierarchical,  # ADVANCED COLLABORATION: Manager delegates work dynamically\n",
    "    verbose=2  # MONITORING: Track manager delegation decisions\n",
    ")"
   ]
  },
  {
   "cell_type": "markdown",
   "metadata": {},
   "source": [
    "## Running the Crew"
   ]
  },
  {
   "cell_type": "code",
   "execution_count": null,
   "metadata": {},
   "outputs": [],
   "source": [
    "# COMPREHENSIVE FINANCIAL PARAMETERS: All inputs for complex analysis\n",
    "financial_trading_inputs = {\n",
    "    'stock_selection': 'AAPL',\n",
    "    'initial_capital': '100000',\n",
    "    'risk_tolerance': 'Medium',\n",
    "    'trading_strategy_preference': 'Day Trading',\n",
    "    'news_impact_consideration': True\n",
    "}\n",
    "\n",
    "# HIERARCHICAL EXECUTION: Manager agent coordinates all specialist agents\n",
    "# Watch for delegation patterns and autonomous decision-making\n",
    "result = financial_trading_crew.kickoff(inputs=financial_trading_inputs)"
   ]
  },
  {
   "cell_type": "code",
   "execution_count": null,
   "metadata": {},
   "outputs": [],
   "source": [
    "from IPython.display import Markdown\n",
    "Markdown(result)"
   ]
  },
  {
   "cell_type": "markdown",
   "metadata": {},
   "source": [
    "---\n",
    "# 12. Build a Crew to Tailor Job Applications\n",
    "\n",
    "Build the most complex and practical crew: a system that analyzes job postings and tailors resumes to increase interview chances.\n",
    "\n",
    "**Key Learning**: Production-ready system combining all concepts learned."
   ]
  },
  {
   "cell_type": "markdown",
   "metadata": {},
   "source": [
    "## crewAI Tools"
   ]
  },
  {
   "cell_type": "code",
   "execution_count": null,
   "metadata": {},
   "outputs": [],
   "source": [
    "# COMPREHENSIVE TOOL SUITE: Multiple tool types for complex job application workflow\n",
    "from crewai_tools import (\n",
    "  FileReadTool,       # Read resume files\n",
    "  ScrapeWebsiteTool,  # Analyze job postings\n",
    "  MDXSearchTool,      # Semantic search through resume\n",
    "  SerperDevTool       # Research companies and roles\n",
    ")\n",
    "\n",
    "search_tool = SerperDevTool()  # Company and role research\n",
    "scrape_tool = ScrapeWebsiteTool()  # Job posting analysis\n",
    "read_resume = FileReadTool(file_path='./resume/fake_resume.md')  # Resume content access\n",
    "semantic_search_resume = MDXSearchTool(mdx='./resume/fake_resume.md')  # Smart resume search"
   ]
  },
  {
   "cell_type": "markdown",
   "metadata": {},
   "source": [
    "## Creating Agents"
   ]
  },
  {
   "cell_type": "code",
   "execution_count": null,
   "metadata": {},
   "outputs": [],
   "source": [
    "# JOB ANALYSIS SPECIALIST: Extracts requirements from job postings\n",
    "researcher = Agent(\n",
    "    role=\"Tech Job Researcher\",\n",
    "    goal=\"Make sure to do amazing analysis on \"\n",
    "         \"job posting to help job applicants\",\n",
    "    tools = [scrape_tool, search_tool],  # WEB RESEARCH: Job posting and company analysis\n",
    "    verbose=True,\n",
    "    backstory=(\n",
    "        \"As a Job Researcher, your prowess in \"\n",
    "        \"navigating and extracting critical \"\n",
    "        \"information from job postings is unmatched.\"\n",
    "        \"Your skills help pinpoint the necessary \"\n",
    "        \"qualifications and skills sought \"\n",
    "        \"by employers, forming the foundation for \"\n",
    "        \"effective application tailoring.\"\n",
    "    )\n",
    ")"
   ]
  },
  {
   "cell_type": "code",
   "execution_count": null,
   "metadata": {},
   "outputs": [],
   "source": [
    "# CANDIDATE ANALYSIS SPECIALIST: Comprehensive applicant profiling\n",
    "profiler = Agent(\n",
    "    role=\"Personal Profiler for Engineers\",\n",
    "    goal=\"Do increditble research on job applicants \"\n",
    "         \"to help them stand out in the job market\",\n",
    "    tools = [scrape_tool, search_tool,\n",
    "             read_resume, semantic_search_resume],  # MULTI-SOURCE: Web + file-based research\n",
    "    verbose=True,\n",
    "    backstory=(\n",
    "        \"Equipped with analytical prowess, you dissect \"\n",
    "        \"and synthesize information \"\n",
    "        \"from diverse sources to craft comprehensive \"\n",
    "        \"personal and professional profiles, laying the \"\n",
    "        \"groundwork for personalized resume enhancements.\"\n",
    "    )\n",
    ")"
   ]
  },
  {
   "cell_type": "code",
   "execution_count": null,
   "metadata": {},
   "outputs": [],
   "source": [
    "# RESUME OPTIMIZATION SPECIALIST: Strategic resume enhancement\n",
    "resume_strategist = Agent(\n",
    "    role=\"Resume Strategist for Engineers\",\n",
    "    goal=\"Find all the best ways to make a \"\n",
    "         \"resume stand out in the job market.\",\n",
    "    tools = [scrape_tool, search_tool,\n",
    "             read_resume, semantic_search_resume],\n",
    "    verbose=True,\n",
    "    backstory=(\n",
    "        \"With a strategic mind and an eye for detail, you \"\n",
    "        \"excel at refining resumes to highlight the most \"\n",
    "        \"relevant skills and experiences, ensuring they \"\n",
    "        \"resonate perfectly with the job's requirements.\"\n",
    "    )\n",
    ")"
   ]
  },
  {
   "cell_type": "code",
   "execution_count": null,
   "metadata": {},
   "outputs": [],
   "source": [
    "# INTERVIEW PREPARATION SPECIALIST: Final stage optimization\n",
    "interview_preparer = Agent(\n",
    "    role=\"Engineering Interview Preparer\",\n",
    "    goal=\"Create interview questions and talking points \"\n",
    "         \"based on the resume and job requirements\",\n",
    "    tools = [scrape_tool, search_tool,\n",
    "             read_resume, semantic_search_resume],\n",
    "    verbose=True,\n",
    "    backstory=(\n",
    "        \"Your role is crucial in anticipating the dynamics of \"\n",
    "        \"interviews. With your ability to formulate key questions \"\n",
    "        \"and talking points, you prepare candidates for success, \"\n",
    "        \"ensuring they can confidently address all aspects of the \"\n",
    "        \"job they are applying for.\"\n",
    "    )\n",
    ")"
   ]
  },
  {
   "cell_type": "markdown",
   "metadata": {},
   "source": [
    "## Creating Tasks"
   ]
  },
  {
   "cell_type": "code",
   "execution_count": null,
   "metadata": {},
   "outputs": [],
   "source": [
    "# PARALLEL EXECUTION: This task can run independently\n",
    "# async_execution=True allows this to run while other tasks execute\n",
    "research_task = Task(\n",
    "    description=(\n",
    "        \"Analyze the job posting URL provided ({job_posting_url}) \"\n",
    "        \"to extract key skills, experiences, and qualifications \"\n",
    "        \"required. Use the tools to gather content and identify \"\n",
    "        \"and categorize the requirements.\"\n",
    "    ),\n",
    "    expected_output=(\n",
    "        \"A structured list of job requirements, including necessary \"\n",
    "        \"skills, qualifications, and experiences.\"\n",
    "    ),\n",
    "    agent=researcher,\n",
    "    async_execution=True  # PARALLEL PROCESSING: Can run simultaneously with profile_task\n",
    ")"
   ]
  },
  {
   "cell_type": "code",
   "execution_count": null,
   "metadata": {},
   "outputs": [],
   "source": [
    "# PARALLEL EXECUTION: Independent candidate analysis\n",
    "profile_task = Task(\n",
    "    description=(\n",
    "        \"Compile a detailed personal and professional profile \"\n",
    "        \"using the GitHub ({github_url}) URLs, and personal write-up \"\n",
    "        \"({personal_writeup}). Utilize tools to extract and \"\n",
    "        \"synthesize information from these sources.\"\n",
    "    ),\n",
    "    expected_output=(\n",
    "        \"A comprehensive profile document that includes skills, \"\n",
    "        \"project experiences, contributions, interests, and \"\n",
    "        \"communication style.\"\n",
    "    ),\n",
    "    agent=profiler,\n",
    "    async_execution=True  # PARALLEL PROCESSING: Can run simultaneously with research_task\n",
    ")"
   ]
  },
  {
   "cell_type": "code",
   "execution_count": null,
   "metadata": {},
   "outputs": [],
   "source": [
    "# SYNTHESIS TASK: Combines outputs from parallel tasks\n",
    "# context=[research_task, profile_task] ensures this waits for both to complete\n",
    "resume_strategy_task = Task(\n",
    "    description=(\n",
    "        \"Using the profile and job requirements obtained from \"\n",
    "        \"previous tasks, tailor the resume to highlight the most \"\n",
    "        \"relevant areas. Employ tools to adjust and enhance the \"\n",
    "        \"resume content. Make sure this is the best resume even but \"\n",
    "        \"don't make up any information. Update the resume to better \"\n",
    "        \"reflect the candidates abilities and how it matches the job posting.\"\n",
    "    ),\n",
    "    expected_output=(\n",
    "        \"An updated resume that effectively highlights the candidate's \"\n",
    "        \"qualifications and experiences relevant to the job.\"\n",
    "    ),\n",
    "    output_file=\"tailored_resume.md\",  # FILE OUTPUT: Saves result to disk\n",
    "    context=[research_task, profile_task],  # TASK DEPENDENCIES: Waits for both parallel tasks\n",
    "    agent=resume_strategist\n",
    ")"
   ]
  },
  {
   "cell_type": "code",
   "execution_count": null,
   "metadata": {},
   "outputs": [],
   "source": [
    "# FINAL PREPARATION: Uses all previous outputs\n",
    "# context includes all previous tasks - demonstrates complex workflow coordination\n",
    "interview_preparation_task = Task(\n",
    "    description=(\n",
    "        \"Create a set of potential interview questions and talking \"\n",
    "        \"points based on the tailored resume and job requirements. \"\n",
    "        \"Prepare questions and talking points that help the candidate \"\n",
    "        \"highlight the main points of the resume and how it matches the job posting.\"\n",
    "    ),\n",
    "    expected_output=(\n",
    "        \"A document containing key questions and talking points \"\n",
    "        \"that the candidate should prepare for the initial interview.\"\n",
    "    ),\n",
    "    output_file=\"interview_materials.md\",  # FILE OUTPUT: Creates interview prep document\n",
    "    context=[research_task, profile_task, resume_strategy_task],  # ALL DEPENDENCIES: Uses entire workflow output\n",
    "    agent=interview_preparer\n",
    ")"
   ]
  },
  {
   "cell_type": "markdown",
   "metadata": {},
   "source": [
    "## Creating the Crew"
   ]
  },
  {
   "cell_type": "code",
   "execution_count": null,
   "metadata": {},
   "outputs": [],
   "source": [
    "# PRODUCTION WORKFLOW: Complex coordination with parallel and sequential elements\n",
    "# Demonstrates advanced crew design for real-world applications\n",
    "job_application_crew = Crew(\n",
    "    agents=[researcher,\n",
    "            profiler,\n",
    "            resume_strategist,\n",
    "            interview_preparer],\n",
    "\n",
    "    tasks=[research_task,\n",
    "           profile_task,                    # PARALLEL: Runs with research_task\n",
    "           resume_strategy_task,            # SEQUENTIAL: Waits for both parallel tasks\n",
    "           interview_preparation_task],     # SEQUENTIAL: Waits for all previous tasks\n",
    "\n",
    "    verbose=2  # PRODUCTION MONITORING: Track complex workflow execution\n",
    ")"
   ]
  },
  {
   "cell_type": "markdown",
   "metadata": {},
   "source": [
    "## Running the Crew"
   ]
  },
  {
   "cell_type": "code",
   "execution_count": null,
   "metadata": {},
   "outputs": [],
   "source": [
    "# PRODUCTION INPUT: Real-world job application scenario\n",
    "# This demonstrates how to structure inputs for complex, multi-variable workflows\n",
    "job_application_inputs = {\n",
    "    'job_posting_url': 'https://jobs.lever.co/FiscalNote/6d7f5025-50b4-493d-b6aa-9689c699c267',\n",
    "    'github_url': 'https://github.com/joaomdmoura',\n",
    "    'personal_writeup': \"\"\"Noah is an accomplished Software\n",
    "    Engineering Leader with 18 years of experience, specializing in\n",
    "    managing remote and in-office teams, and expert in multiple\n",
    "    programming languages and frameworks. He holds an MBA and a strong\n",
    "    background in AI and data science. Noah has successfully led\n",
    "    major tech initiatives and startups, proving his ability to drive\n",
    "    innovation and growth in the tech industry. Ideal for leadership\n",
    "    roles that require a strategic and innovative approach.\"\"\"\n",
    "}"
   ]
  },
  {
   "cell_type": "code",
   "execution_count": null,
   "metadata": {},
   "outputs": [],
   "source": [
    "# COMPLEX EXECUTION: This will take several minutes due to the sophisticated workflow\n",
    "# Watch for parallel execution, task dependencies, and file generation\n",
    "result = job_application_crew.kickoff(inputs=job_application_inputs)"
   ]
  },
  {
   "cell_type": "markdown",
   "metadata": {},
   "source": [
    "## View Generated Files"
   ]
  },
  {
   "cell_type": "code",
   "execution_count": null,
   "metadata": {},
   "outputs": [],
   "source": [
    "# FILE OUTPUT REVIEW: Display the tailored resume generated by the crew\n",
    "from IPython.display import Markdown, display\n",
    "display(Markdown(\"./tailored_resume.md\"))"
   ]
  },
  {
   "cell_type": "code",
   "execution_count": null,
   "metadata": {},
   "outputs": [],
   "source": [
    "# INTERVIEW PREPARATION: Display the interview materials created for the candidate\n",
    "display(Markdown(\"./interview_materials.md\"))"
   ]
  },
  {
   "cell_type": "markdown",
   "metadata": {},
   "source": [
    "---\n",
    "# Congratulations!\n",
    "\n",
    "You've completed the Multi AI Agent Systems with CrewAI tutorial. You now know how to:\n",
    "\n",
    "**Build multi-agent systems** with specialized roles  \n",
    "**Create effective agents** using role-playing and backstories  \n",
    "**Design focused tasks** with clear expectations  \n",
    "**Implement tools** for external world interaction  \n",
    "**Apply collaboration patterns** (sequential, parallel, hierarchical)  \n",
    "**Use memory and guardrails** for robust systems  \n",
    "**Build production-ready** applications  \n",
    "\n",
    "## Resources\n",
    "\n",
    "- [CrewAI Documentation](https://docs.crewai.com)\n",
    "- [Community Forum](https://community.crewai.com)\n"
   ]
  }
 ],
 "metadata": {
  "kernelspec": {
   "display_name": ".venv",
   "language": "python",
   "name": "python3"
  },
  "language_info": {
   "codemirror_mode": {
    "name": "ipython",
    "version": 3
   },
   "file_extension": ".py",
   "mimetype": "text/x-python",
   "name": "python",
   "nbconvert_exporter": "python",
   "pygments_lexer": "ipython3",
   "version": "3.12.3"
  }
 },
 "nbformat": 4,
 "nbformat_minor": 4
}
